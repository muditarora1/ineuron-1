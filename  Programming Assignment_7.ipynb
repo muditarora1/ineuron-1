{
 "cells": [
  {
   "cell_type": "raw",
   "id": "099de3fb",
   "metadata": {},
   "source": [
    "1. Write a Python Program to find sum of array?\n",
    "2. Write a Python Program to find largest element in an array?\n",
    "3. Write a Python Program for array rotation?\n",
    "4. Write a Python Program to Split the array and add the first part to the end?\n",
    "5. Write a Python Program to check if given array is Monotonic?"
   ]
  },
  {
   "cell_type": "code",
   "execution_count": 22,
   "id": "ffd5c3bb",
   "metadata": {},
   "outputs": [
    {
     "name": "stdout",
     "output_type": "stream",
     "text": [
      "enter element of array: 5\n",
      "press \"y\" if you want to add more elements else press anything else: y\n",
      "enter element of array: 9\n",
      "press \"y\" if you want to add more elements else press anything else: y\n",
      "enter element of array: 1\n",
      "press \"y\" if you want to add more elements else press anything else: fgfg\n",
      "Sum is:  15.0\n"
     ]
    }
   ],
   "source": [
    "#1 Write a Python Program to find sum of array?\n",
    "import numpy as np\n",
    "y = 'y'\n",
    "arr=np.array([])\n",
    "while y=='y':\n",
    "    a = int(input(\"enter element of array: \"))\n",
    "    arr=np.append(arr,a)\n",
    "    y = input('press \"y\" if you want to add more elements else press anything else: ')\n",
    "print('Sum is: ',np.sum(arr))"
   ]
  },
  {
   "cell_type": "code",
   "execution_count": 25,
   "id": "f5857e0c",
   "metadata": {},
   "outputs": [
    {
     "name": "stdout",
     "output_type": "stream",
     "text": [
      "enter element of array: 5\n",
      "press \"y\" if you want to add more elements else press anything else: \n",
      "Largest is:  5.0\n"
     ]
    }
   ],
   "source": [
    "#2 Write a Python Program to find largest element in an array?\n",
    "import numpy as np\n",
    "y = 'y'\n",
    "arr=np.array([])\n",
    "while y=='y':\n",
    "    a = int(input(\"enter element of array: \"))\n",
    "    arr=np.append(arr,a)\n",
    "    y = input('press \"y\" if you want to add more elements else press anything else: ')\n",
    "print('Largest is: ',np.max(arr))"
   ]
  },
  {
   "cell_type": "code",
   "execution_count": 26,
   "id": "808ab1d9",
   "metadata": {},
   "outputs": [
    {
     "data": {
      "text/plain": [
       "array([[1],\n",
       "       [2],\n",
       "       [3],\n",
       "       [4]])"
      ]
     },
     "execution_count": 26,
     "metadata": {},
     "output_type": "execute_result"
    }
   ],
   "source": [
    "#3 Write a Python Program for array rotation?\n",
    "a= np.array([[1,2,3,4]])\n",
    "a.T"
   ]
  },
  {
   "cell_type": "code",
   "execution_count": 35,
   "id": "fe7dc989",
   "metadata": {},
   "outputs": [
    {
     "name": "stdout",
     "output_type": "stream",
     "text": [
      " Enter index where u wanna split: 2\n"
     ]
    },
    {
     "data": {
      "text/plain": [
       "array([3, 4, 5, 6, 7, 8, 1, 2])"
      ]
     },
     "execution_count": 35,
     "metadata": {},
     "output_type": "execute_result"
    }
   ],
   "source": [
    "#4. Write a Python Program to Split the array and add the first part to the end?\n",
    "a= np.array([1,2,3,4,5,6,7,8])\n",
    "i=int(input(\" Enter index where u wanna split: \"))\n",
    "b=a[0:i]\n",
    "a=a[i:]\n",
    "a=np.append(a,b)\n",
    "a"
   ]
  },
  {
   "cell_type": "code",
   "execution_count": 45,
   "id": "b2567f45",
   "metadata": {},
   "outputs": [
    {
     "name": "stdout",
     "output_type": "stream",
     "text": [
      "True\n"
     ]
    }
   ],
   "source": [
    "#5. Write a Python Program to check if given array is Monotonic?\n",
    "a= np.array([1,2,3,4,5,6,7,8])\n",
    "l=len(a)\n",
    "def isMonotonic(A):\n",
    "    return (all(A[i] <= A[i + 1] for i in range(len(A) - 1)) or all(A[i] >= A[i + 1] for i in range(len(A) - 1)))\n",
    "\n",
    "print(isMonotonic(a))"
   ]
  },
  {
   "cell_type": "code",
   "execution_count": null,
   "id": "cfa0c802",
   "metadata": {},
   "outputs": [],
   "source": []
  }
 ],
 "metadata": {
  "kernelspec": {
   "display_name": "Python 3 (ipykernel)",
   "language": "python",
   "name": "python3"
  },
  "language_info": {
   "codemirror_mode": {
    "name": "ipython",
    "version": 3
   },
   "file_extension": ".py",
   "mimetype": "text/x-python",
   "name": "python",
   "nbconvert_exporter": "python",
   "pygments_lexer": "ipython3",
   "version": "3.9.12"
  }
 },
 "nbformat": 4,
 "nbformat_minor": 5
}
