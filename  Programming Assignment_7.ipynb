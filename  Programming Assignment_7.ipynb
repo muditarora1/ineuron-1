{
 "cells": [
  {
   "cell_type": "raw",
   "id": "099de3fb",
   "metadata": {},
   "source": [
    "1. Write a Python Program to find sum of array?\n",
    "2. Write a Python Program to find largest element in an array?\n",
    "3. Write a Python Program for array rotation?\n",
    "4. Write a Python Program to Split the array and add the first part to the end?\n",
    "5. Write a Python Program to check if given array is Monotonic?"
   ]
  },
  {
   "cell_type": "code",
   "execution_count": 22,
   "id": "ffd5c3bb",
   "metadata": {},
   "outputs": [
    {
     "name": "stdout",
     "output_type": "stream",
     "text": [
      "enter element of array: 5\n",
      "press \"y\" if you want to add more elements else press anything else: y\n",
      "enter element of array: 9\n",
      "press \"y\" if you want to add more elements else press anything else: y\n",
      "enter element of array: 1\n",
      "press \"y\" if you want to add more elements else press anything else: fgfg\n",
      "Sum is:  15.0\n"
     ]
    }
   ],
   "source": [
    "#1 Write a Python Program to find sum of array?\n",
    "import numpy as np\n",
    "y = 'y'\n",
    "arr=np.array([])\n",
    "while y=='y':\n",
    "    a = int(input(\"enter element of array: \"))\n",
    "    arr=np.append(arr,a)\n",
    "    y = input('press \"y\" if you want to add more elements else press anything else: ')\n",
    "print('Sum is: ',np.sum(arr))"
   ]
  },
  {
   "cell_type": "code",
   "execution_count": 25,
   "id": "ee4c66d4",
   "metadata": {},
   "outputs": [
    {
     "name": "stdout",
     "output_type": "stream",
     "text": [
      "enter element of array: 5\n",
      "press \"y\" if you want to add more elements else press anything else: \n",
      "Largest is:  5.0\n"
     ]
    }
   ],
   "source": [
    "#2 Write a Python Program to find largest element in an array?\n",
    "import numpy as np\n",
    "y = 'y'\n",
    "arr=np.array([])\n",
    "while y=='y':\n",
    "    a = int(input(\"enter element of array: \"))\n",
    "    arr=np.append(arr,a)\n",
    "    y = input('press \"y\" if you want to add more elements else press anything else: ')\n",
    "print('Largest is: ',np.max(arr))"
   ]
  },
  {
   "cell_type": "code",
   "execution_count": 26,
   "id": "7a252eb4",
   "metadata": {},
   "outputs": [
    {
     "data": {
      "text/plain": [
       "array([[1],\n",
       "       [2],\n",
       "       [3],\n",
       "       [4]])"
      ]
     },
     "execution_count": 26,
     "metadata": {},
     "output_type": "execute_result"
    }
   ],
   "source": [
    "#3 Write a Python Program for array rotation?\n",
    "a= np.array([[1,2,3,4]])\n",
    "a.T"
   ]
  },
  {
   "cell_type": "code",
   "execution_count": 35,
   "id": "7d693737",
   "metadata": {},
   "outputs": [
    {
     "name": "stdout",
     "output_type": "stream",
     "text": [
      " Enter index where u wanna split: 2\n"
     ]
    },
    {
     "data": {
      "text/plain": [
       "array([3, 4, 5, 6, 7, 8, 1, 2])"
      ]
     },
     "execution_count": 35,
     "metadata": {},
     "output_type": "execute_result"
    }
   ],
   "source": [
    "#4. Write a Python Program to Split the array and add the first part to the end?\n",
    "a= np.array([1,2,3,4,5,6,7,8])\n",
    "i=int(input(\" Enter index where u wanna split: \"))\n",
    "b=a[0:i]\n",
    "a=a[i:]\n",
    "a=np.append(a,b)\n",
    "a"
   ]
  },
  {
   "cell_type": "code",
   "execution_count": 38,
   "id": "20687e14",
   "metadata": {},
   "outputs": [
    {
     "name": "stdout",
     "output_type": "stream",
     "text": [
      "1\n",
      "2\n",
      "3\n",
      "4\n",
      "5\n",
      "6\n",
      "7\n"
     ]
    }
   ],
   "source": [
    "#5. Write a Python Program to check if given array is Monotonic?\n",
    "a= np.array([1,2,3,4,5,6,7,8])\n",
    "l=len(a)\n",
    "r=True\n",
    "for i in range(l-1):\n",
    "    if a[i]>a[i+1]"
   ]
  },
  {
   "cell_type": "code",
   "execution_count": 40,
   "id": "4fa0a2c3",
   "metadata": {},
   "outputs": [
    {
     "data": {
      "text/plain": [
       "True"
      ]
     },
     "execution_count": 40,
     "metadata": {},
     "output_type": "execute_result"
    }
   ],
   "source": [
    "mylist = [True, True, True]\n",
    "x = all(mylist)\n",
    "x"
   ]
  },
  {
   "cell_type": "code",
   "execution_count": 43,
   "id": "632ecca1",
   "metadata": {},
   "outputs": [
    {
     "ename": "TypeError",
     "evalue": "'>' not supported between instances of 'list' and 'int'",
     "output_type": "error",
     "traceback": [
      "\u001b[1;31m---------------------------------------------------------------------------\u001b[0m",
      "\u001b[1;31mTypeError\u001b[0m                                 Traceback (most recent call last)",
      "Input \u001b[1;32mIn [43]\u001b[0m, in \u001b[0;36m<cell line: 2>\u001b[1;34m()\u001b[0m\n\u001b[0;32m      1\u001b[0m mylist \u001b[38;5;241m=\u001b[39m [\u001b[38;5;241m2\u001b[39m,\u001b[38;5;241m5\u001b[39m,\u001b[38;5;241m6\u001b[39m,\u001b[38;5;241m5\u001b[39m]\n\u001b[1;32m----> 2\u001b[0m x \u001b[38;5;241m=\u001b[39m \u001b[38;5;28mall\u001b[39m(\u001b[43mmylist\u001b[49m\u001b[38;5;241;43m>\u001b[39;49m\u001b[38;5;241;43m1\u001b[39;49m)\n\u001b[0;32m      3\u001b[0m x\n",
      "\u001b[1;31mTypeError\u001b[0m: '>' not supported between instances of 'list' and 'int'"
     ]
    }
   ],
   "source": [
    "mylist = [2,5,6,5]\n",
    "x = all(mylist>1)\n",
    "x"
   ]
  },
  {
   "cell_type": "code",
   "execution_count": null,
   "id": "766c5514",
   "metadata": {},
   "outputs": [],
   "source": []
  }
 ],
 "metadata": {
  "kernelspec": {
   "display_name": "Python 3 (ipykernel)",
   "language": "python",
   "name": "python3"
  },
  "language_info": {
   "codemirror_mode": {
    "name": "ipython",
    "version": 3
   },
   "file_extension": ".py",
   "mimetype": "text/x-python",
   "name": "python",
   "nbconvert_exporter": "python",
   "pygments_lexer": "ipython3",
   "version": "3.9.12"
  }
 },
 "nbformat": 4,
 "nbformat_minor": 5
}
