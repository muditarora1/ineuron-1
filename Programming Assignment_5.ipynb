{
 "cells": [
  {
   "cell_type": "markdown",
   "id": "7f785474-1804-41cc-b735-e0734c740b29",
   "metadata": {},
   "source": [
    "Q1. Write a Python Program to Find LCM?"
   ]
  },
  {
   "cell_type": "code",
   "execution_count": 7,
   "id": "98298b54-bdf0-4d92-975f-0a5aeaaf7b64",
   "metadata": {},
   "outputs": [
    {
     "name": "stdin",
     "output_type": "stream",
     "text": [
      "Enter a number:  82\n",
      "Enter another number:  64\n"
     ]
    },
    {
     "name": "stdout",
     "output_type": "stream",
     "text": [
      "hcf=  2\n",
      "LCM =  2624.0\n"
     ]
    }
   ],
   "source": [
    "a=int(input('Enter a number: '))\n",
    "b=int(input('Enter another number: '))\n",
    "ad,bd=[],[]\n",
    "hcf1=0\n",
    "hcf2=0\n",
    "for i in range(1,a+1):\n",
    "    if a%i==0:\n",
    "        ad.append(i)\n",
    "for i in range(1,b+1):\n",
    "    if b%i==0:\n",
    "        bd.append(i)\n",
    "for i in ad:\n",
    "    if i in bd:\n",
    "        if i>hcf1:\n",
    "            hcf1=i\n",
    "for i in bd:\n",
    "    if i in ad:\n",
    "        if i>hcf2:\n",
    "            hcf2=i\n",
    "if hcf1>hcf2:\n",
    "    hcf=hcf1\n",
    "elif hcf1==hcf2:\n",
    "    hcf=hcf2\n",
    "else:\n",
    "    hcf=hfc2\n",
    "print('hcf= ',hcf)\n",
    "print('LCM = ',(a*b)/hcf)"
   ]
  },
  {
   "cell_type": "markdown",
   "id": "df6eecf8-0987-493d-9855-13a584bfd4d8",
   "metadata": {},
   "source": [
    "Q2. Write a Python Program to Find HCF?"
   ]
  },
  {
   "cell_type": "code",
   "execution_count": 4,
   "id": "7301c260-3dd3-4775-8d70-e195e5b42d2c",
   "metadata": {},
   "outputs": [
    {
     "name": "stdin",
     "output_type": "stream",
     "text": [
      "Enter a number:  63\n",
      "Enter another number:  45\n"
     ]
    },
    {
     "name": "stdout",
     "output_type": "stream",
     "text": [
      "9\n"
     ]
    }
   ],
   "source": [
    "a=int(input('Enter a number: '))\n",
    "b=int(input('Enter another number: '))\n",
    "ad,bd=[],[]\n",
    "hcf1=0\n",
    "hcf2=0\n",
    "for i in range(1,a+1):\n",
    "    if a%i==0:\n",
    "        ad.append(i)\n",
    "for i in range(1,b+1):\n",
    "    if b%i==0:\n",
    "        bd.append(i)\n",
    "for i in ad:\n",
    "    if i in bd:\n",
    "        if i>hcf1:\n",
    "            hcf1=i\n",
    "for i in bd:\n",
    "    if i in ad:\n",
    "        if i>hcf2:\n",
    "            hcf2=i\n",
    "if hcf1>hcf2:\n",
    "    hcf=hcf1\n",
    "elif hcf1==hcf2:\n",
    "    hcf=hcf2\n",
    "else:\n",
    "    hcf=hfc2\n",
    "print(hcf)"
   ]
  },
  {
   "cell_type": "markdown",
   "id": "b031c2f9-1038-4899-8d6e-b6d868fc077d",
   "metadata": {},
   "source": [
    "Q3. Write a Python Program to Convert Decimal to Binary, Octal and Hexadecimal?"
   ]
  },
  {
   "cell_type": "code",
   "execution_count": 8,
   "id": "695c19ea-89d1-4f53-9cde-9f28e4f2c9e6",
   "metadata": {},
   "outputs": [
    {
     "name": "stdin",
     "output_type": "stream",
     "text": [
      "Enter a number:  84\n"
     ]
    },
    {
     "name": "stdout",
     "output_type": "stream",
     "text": [
      "The decimal value of 84 is:\n",
      "0b1010100 in binary.\n",
      "0o124 in octal.\n",
      "0x54 in hexadecimal.\n"
     ]
    }
   ],
   "source": [
    "a=int(input('Enter a number: '))\n",
    "print(\"The decimal value of\", a, \"is:\")\n",
    "print(bin(a), \"in binary.\")\n",
    "print(oct(a), \"in octal.\")\n",
    "print(hex(a), \"in hexadecimal.\")"
   ]
  },
  {
   "cell_type": "markdown",
   "id": "0b56f6de-26b7-48a6-b99b-452bf34ab48c",
   "metadata": {},
   "source": [
    "Q4. Write a Python Program To Find ASCII value of a character?"
   ]
  },
  {
   "cell_type": "code",
   "execution_count": 12,
   "id": "6bb36ed2-5074-4a3a-b341-7472fa57280a",
   "metadata": {},
   "outputs": [
    {
     "name": "stdin",
     "output_type": "stream",
     "text": [
      "Enter a number:  a\n"
     ]
    },
    {
     "name": "stdout",
     "output_type": "stream",
     "text": [
      "The ASCII value of 'a' is 97\n"
     ]
    }
   ],
   "source": [
    "a=input('Enter a number: ')\n",
    "print(\"The ASCII value of '\" + a + \"' is\", ord(a))"
   ]
  },
  {
   "cell_type": "markdown",
   "id": "6b083251-841f-4d16-a9b3-c7a25b9cff02",
   "metadata": {},
   "source": [
    "Q5. Write a Python Program to Make a Simple Calculator with 4 basic mathematical operations?"
   ]
  },
  {
   "cell_type": "code",
   "execution_count": 13,
   "id": "4331fee0-5187-4883-9b48-103f3974a94e",
   "metadata": {},
   "outputs": [
    {
     "name": "stdout",
     "output_type": "stream",
     "text": [
      "Please select the operation.\n",
      "a. Add\n",
      "b. Subtract\n",
      "c. Multiply\n",
      "d. Divide\n"
     ]
    },
    {
     "name": "stdin",
     "output_type": "stream",
     "text": [
      "Please enter choice (a/ b/ c/ d):  d\n",
      "Please enter the first number:  45\n",
      "Please enter the second number:  5\n"
     ]
    },
    {
     "name": "stdout",
     "output_type": "stream",
     "text": [
      "45  /  5  =  9.0\n"
     ]
    }
   ],
   "source": [
    "def add(P, Q):     \n",
    "   return P + Q   \n",
    "def subtract(P, Q):   \n",
    "   return P - Q   \n",
    "def multiply(P, Q):     \n",
    "   return P * Q   \n",
    "def divide(P, Q):      \n",
    "   return P / Q    \n",
    " \n",
    "print (\"Please select the operation.\")    \n",
    "print (\"a. Add\")    \n",
    "print (\"b. Subtract\")    \n",
    "print (\"c. Multiply\")    \n",
    "print (\"d. Divide\")    \n",
    "    \n",
    "choice = input(\"Please enter choice (a/ b/ c/ d): \")    \n",
    "    \n",
    "num_1 = int (input (\"Please enter the first number: \"))    \n",
    "num_2 = int (input (\"Please enter the second number: \"))    \n",
    "    \n",
    "if choice == 'a':    \n",
    "   print (num_1, \" + \", num_2, \" = \", add(num_1, num_2))        \n",
    "elif choice == 'b':    \n",
    "   print (num_1, \" - \", num_2, \" = \", subtract(num_1, num_2))        \n",
    "elif choice == 'c':    \n",
    "   print (num1, \" * \", num2, \" = \", multiply(num1, num2))    \n",
    "elif choice == 'd':    \n",
    "   print (num_1, \" / \", num_2, \" = \", divide(num_1, num_2))    \n",
    "else:    \n",
    "   print (\"This is an invalid input\")    "
   ]
  },
  {
   "cell_type": "code",
   "execution_count": null,
   "id": "111021d3-ee6b-4cec-999d-34133805a272",
   "metadata": {},
   "outputs": [],
   "source": []
  }
 ],
 "metadata": {
  "kernelspec": {
   "display_name": "Python 3 (ipykernel)",
   "language": "python",
   "name": "python3"
  },
  "language_info": {
   "codemirror_mode": {
    "name": "ipython",
    "version": 3
   },
   "file_extension": ".py",
   "mimetype": "text/x-python",
   "name": "python",
   "nbconvert_exporter": "python",
   "pygments_lexer": "ipython3",
   "version": "3.9.12"
  }
 },
 "nbformat": 4,
 "nbformat_minor": 5
}
