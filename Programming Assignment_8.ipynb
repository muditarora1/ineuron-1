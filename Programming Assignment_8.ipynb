{
 "cells": [
  {
   "cell_type": "raw",
   "id": "a7f05673",
   "metadata": {},
   "source": [
    "1. Write a Python Program to Add Two Matrices?\n",
    "2. Write a Python Program to Multiply Two Matrices?\n",
    "3. Write a Python Program to Transpose a Matrix?\n",
    "4. Write a Python Program to Sort Words in Alphabetic Order?\n",
    "5. Write a Python Program to Remove Punctuation From a String?"
   ]
  },
  {
   "cell_type": "code",
   "execution_count": 14,
   "id": "865848fd",
   "metadata": {},
   "outputs": [
    {
     "data": {
      "text/plain": [
       "array([[17, 15,  4],\n",
       "       [10, 12,  9],\n",
       "       [11, 13, 18]])"
      ]
     },
     "execution_count": 14,
     "metadata": {},
     "output_type": "execute_result"
    }
   ],
   "source": [
    "#1. Write a Python Program to Add Two Matrices?\n",
    "import numpy as np\n",
    "x = [[12,7,3],\n",
    "    [4 ,5,6],\n",
    "    [7 ,8,9]]\n",
    "y = [[5,8,1],\n",
    "    [6,7,3],\n",
    "    [4,5,9]]\n",
    "np.add(x,y)"
   ]
  },
  {
   "cell_type": "code",
   "execution_count": 22,
   "id": "c3cef9e2",
   "metadata": {},
   "outputs": [
    {
     "name": "stdout",
     "output_type": "stream",
     "text": [
      "[[60 56  3]\n",
      " [24 35 18]\n",
      " [28 40 81]] \n",
      "\n",
      " [[114 160  60]\n",
      " [ 74  97  73]\n",
      " [119 157 112]]\n"
     ]
    }
   ],
   "source": [
    "#2. Write a Python Program to Multiply Two Matrices?\n",
    "x = [[12,7,3],\n",
    "    [4 ,5,6],\n",
    "    [7 ,8,9]]\n",
    "y = [[5,8,1],\n",
    "    [6,7,3],\n",
    "    [4,5,9]]\n",
    "x=np.array(x)\n",
    "y=np.array(y)\n",
    "print(x*y,\"\\n\\n\",x@y)"
   ]
  },
  {
   "cell_type": "code",
   "execution_count": 24,
   "id": "401e0ea6",
   "metadata": {},
   "outputs": [
    {
     "data": {
      "text/plain": [
       "array([[12,  4,  7],\n",
       "       [ 7,  5,  8],\n",
       "       [ 3,  6,  9]])"
      ]
     },
     "execution_count": 24,
     "metadata": {},
     "output_type": "execute_result"
    }
   ],
   "source": [
    "#3. Write a Python Program to Transpose a Matrix?\n",
    "x = [[12,7,3],\n",
    "    [4 ,5,6],\n",
    "    [7 ,8,9]]\n",
    "x=np.array(x)\n",
    "x.T"
   ]
  },
  {
   "cell_type": "code",
   "execution_count": 31,
   "id": "563aa5f8",
   "metadata": {},
   "outputs": [
    {
     "data": {
      "text/plain": [
       "['a', 'hello', 'is', 'program', 'python', 'this']"
      ]
     },
     "execution_count": 31,
     "metadata": {},
     "output_type": "execute_result"
    }
   ],
   "source": [
    "#4. Write a Python Program to Sort Words in Alphabetic Order?\n",
    "a= 'Hello this is a python program'\n",
    "a=a.lower()\n",
    "b=a.split()\n",
    "b.sort()\n",
    "b"
   ]
  },
  {
   "cell_type": "code",
   "execution_count": 39,
   "id": "bc86ebb2",
   "metadata": {},
   "outputs": [
    {
     "data": {
      "text/plain": [
       "'Hello this is  a python program'"
      ]
     },
     "execution_count": 39,
     "metadata": {},
     "output_type": "execute_result"
    }
   ],
   "source": [
    "#5. Write a Python Program to Remove Punctuation From a String?\n",
    "punc = '''!()-[]{};:'\"\\,<>./?@#$%^&*_~'''\n",
    "a= 'Hello this is @#!!!! a python program'\n",
    "for i in punc:\n",
    "    a=a.replace(i,'')\n",
    "a"
   ]
  },
  {
   "cell_type": "code",
   "execution_count": null,
   "id": "def9ff5e",
   "metadata": {},
   "outputs": [],
   "source": []
  }
 ],
 "metadata": {
  "kernelspec": {
   "display_name": "Python 3 (ipykernel)",
   "language": "python",
   "name": "python3"
  },
  "language_info": {
   "codemirror_mode": {
    "name": "ipython",
    "version": 3
   },
   "file_extension": ".py",
   "mimetype": "text/x-python",
   "name": "python",
   "nbconvert_exporter": "python",
   "pygments_lexer": "ipython3",
   "version": "3.9.12"
  }
 },
 "nbformat": 4,
 "nbformat_minor": 5
}
