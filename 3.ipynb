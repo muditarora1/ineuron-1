{
 "cells": [
  {
   "cell_type": "code",
   "execution_count": null,
   "id": "a153933f-02dd-47ab-8571-c3f60c314fc9",
   "metadata": {},
   "outputs": [],
   "source": [
    "Q1. Why are functions advantageous to have in your programs?\n",
    "Ans: We dont need to rewrite the sam code again and again, plus function makes programs shorter, easier to read, and easier to update"
   ]
  },
  {
   "cell_type": "code",
   "execution_count": null,
   "id": "41c0ec28-5b2d-402b-acaf-479a647ee4c9",
   "metadata": {},
   "outputs": [],
   "source": [
    "Q2. When does the code in a function run: when it's specified or when it's called?\n",
    "Ans: When it is called."
   ]
  },
  {
   "cell_type": "code",
   "execution_count": null,
   "id": "8c03e3d2-0370-4088-8be1-d24e4fe999ac",
   "metadata": {},
   "outputs": [],
   "source": [
    "Q3. What statement creates a function?\n",
    "Ans: The def statement creates a function.\n",
    "Eg .\n",
    "def a_func():\n",
    "pass"
   ]
  },
  {
   "cell_type": "code",
   "execution_count": null,
   "id": "5d957cf3-de39-42bf-9ed2-591e411128f5",
   "metadata": {},
   "outputs": [],
   "source": [
    "Q4. What is the difference between a function and a function call?\n",
    "Ans: a function is where the code is written under def statement \n",
    "but to execute that function's code u have to call the function whereever u need.By writing that function name with(). "
   ]
  },
  {
   "cell_type": "code",
   "execution_count": null,
   "id": "c0b589e2-dacb-4f23-b75c-fe648a9d344c",
   "metadata": {},
   "outputs": [],
   "source": [
    "Q5. How many global scopes are there in a Python program? How many local scopes?\n",
    "Ans: There's only one global Python scope per program and this scope exist until the program terminates, \n",
    "and a local scope is created whenever a function is called."
   ]
  },
  {
   "cell_type": "code",
   "execution_count": null,
   "id": "c2a255e9-e2cd-4e94-9a0d-c4107750f754",
   "metadata": {},
   "outputs": [],
   "source": [
    "Q6. What happens to variables in a local scope when the function call returns?\n",
    "Ans: local scope ends after the return, meaning variables gets deleted."
   ]
  },
  {
   "cell_type": "code",
   "execution_count": null,
   "id": "45ae939f-a520-4909-9796-518e5822b093",
   "metadata": {},
   "outputs": [],
   "source": [
    "Q7. What is the concept of a return value? Is it possible to have a return value in an expression?\n",
    "Ans: When you need a function to return(give) you a value after calling it, function can do that by return statement. \n",
    "A function always return something if not assigned it returns 'None' by default.\n",
    "Like any value, a return value can be used as part of an expression."
   ]
  },
  {
   "cell_type": "code",
   "execution_count": 1,
   "id": "5595820e-1f04-4359-9121-00179b8c752b",
   "metadata": {},
   "outputs": [
    {
     "name": "stdout",
     "output_type": "stream",
     "text": [
      "None\n"
     ]
    }
   ],
   "source": [
    "'''\n",
    "Q8. If a function does not have a return statement, what is the return value of a call to that function?\n",
    "Ans: None.\n",
    "'''\n",
    "#Example:\n",
    "def a_func():\n",
    "    pass\n",
    "print(a_func())"
   ]
  },
  {
   "cell_type": "code",
   "execution_count": 2,
   "id": "dc25b9ab-24f0-4544-9132-0717fcaa2d75",
   "metadata": {},
   "outputs": [
    {
     "name": "stdout",
     "output_type": "stream",
     "text": [
      "10\n"
     ]
    }
   ],
   "source": [
    "'''\n",
    "Q9. How do you make a function variable refer to the global variable?\n",
    "Ans: We can use the global keyword to declare which variables are global\n",
    "'''\n",
    "#Ex:\n",
    "def a_func():\n",
    "    global x\n",
    "    x=10\n",
    "a_func()\n",
    "print(x)"
   ]
  },
  {
   "cell_type": "code",
   "execution_count": null,
   "id": "716a0ad0-9d90-420a-9669-4d4347ac5263",
   "metadata": {},
   "outputs": [],
   "source": [
    "Q10. What is the data type of None?\n",
    "Ans: NoneType"
   ]
  },
  {
   "cell_type": "code",
   "execution_count": null,
   "id": "05ab2578-386a-4132-a2b8-771a6376e9a1",
   "metadata": {},
   "outputs": [],
   "source": [
    "Q11. What does the sentence import areallyourpetsnamederic do?\n",
    "Ans: That import statement imports a module named areallyourpetsnamederic. (But a module of this name doesnt exists in Python)"
   ]
  },
  {
   "cell_type": "code",
   "execution_count": null,
   "id": "299685f7-222f-4efc-b594-823a6c1592cd",
   "metadata": {},
   "outputs": [],
   "source": [
    "Q12. If you had a bacon() feature in a spam module, what would you call it after importing spam?\n",
    "Ans: spam.bacon() is how I would call it. bacon() is a function in spam module that is what I would call it."
   ]
  },
  {
   "cell_type": "code",
   "execution_count": null,
   "id": "975bcf33-9eff-4987-9a8e-db83451533ab",
   "metadata": {},
   "outputs": [],
   "source": [
    "Q13. What can you do to save a programme from crashing if it encounters an error?\n",
    "Ans: I would use errors and exception handling i.e. try:,except:,else:,finally: statements"
   ]
  },
  {
   "cell_type": "code",
   "execution_count": null,
   "id": "a7662960-b666-4ced-86b4-1f70ed13a09e",
   "metadata": {},
   "outputs": [],
   "source": [
    "Q14. What is the purpose of the try clause? What is the purpose of the except clause?\n",
    "Ans: Try and Except clause is used to handle the errors within our code . \n",
    "The try block is used to check some code for errors i.e the code inside the try block will execute when there is no error in the program. \n",
    "Whereas the code inside the except block will execute whenever the program encounters some error in the try block."
   ]
  },
  {
   "cell_type": "code",
   "execution_count": 3,
   "id": "bad454ce-e43f-45fa-8732-57dae534a38f",
   "metadata": {},
   "outputs": [
    {
     "name": "stdin",
     "output_type": "stream",
     "text": [
      "Enter a no.:  q\n"
     ]
    },
    {
     "name": "stdout",
     "output_type": "stream",
     "text": [
      "this is not a number\n"
     ]
    },
    {
     "name": "stdin",
     "output_type": "stream",
     "text": [
      "Enter a no.:  23\n"
     ]
    },
    {
     "name": "stdout",
     "output_type": "stream",
     "text": [
      "Thank You\n"
     ]
    }
   ],
   "source": [
    "#for example:\n",
    "while True:\n",
    "    try:\n",
    "        a=int(input('Enter a no.: '))\n",
    "    except:\n",
    "        print('this is not a number')\n",
    "    else:\n",
    "        print('Thank You')\n",
    "        break"
   ]
  },
  {
   "cell_type": "code",
   "execution_count": null,
   "id": "6cf4e79f-b875-4c1f-b8b4-3ac43aa10a25",
   "metadata": {},
   "outputs": [],
   "source": [
    "Just to let Ineuron know error handling is not covered in basic python so please ask questions carefully from right modules."
   ]
  }
 ],
 "metadata": {
  "kernelspec": {
   "display_name": "Python 3 (ipykernel)",
   "language": "python",
   "name": "python3"
  },
  "language_info": {
   "codemirror_mode": {
    "name": "ipython",
    "version": 3
   },
   "file_extension": ".py",
   "mimetype": "text/x-python",
   "name": "python",
   "nbconvert_exporter": "python",
   "pygments_lexer": "ipython3",
   "version": "3.9.12"
  }
 },
 "nbformat": 4,
 "nbformat_minor": 5
}
