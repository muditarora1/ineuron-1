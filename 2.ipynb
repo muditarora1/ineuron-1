{
 "cells": [
  {
   "cell_type": "code",
   "execution_count": null,
   "id": "055818cb-0f19-4b46-aa44-abc72524f32c",
   "metadata": {},
   "outputs": [],
   "source": [
    "Q1.What are the two values of the Boolean data type? How do you write them?\n",
    "Ans: Two values are True and False, we write them with the first letter capital.\n"
   ]
  },
  {
   "cell_type": "code",
   "execution_count": null,
   "id": "e9adeb94-6ec2-4420-97e3-469a6bd840c9",
   "metadata": {},
   "outputs": [],
   "source": [
    "Q2. What are the three different types of Boolean operators?\n",
    "Ans: AND, OR, NOT"
   ]
  },
  {
   "cell_type": "code",
   "execution_count": null,
   "id": "105a9148-e882-4359-908f-de1baa92da6d",
   "metadata": {},
   "outputs": [],
   "source": [
    "Q3. Make a list of each Boolean operator's truth tables (i.e. every possible combination of Boolean\n",
    "values for the operator and what it evaluate ).\n",
    "Ans: \n",
    "True and False is False.\n",
    "True and True is True.\n",
    "False and True is False.\n",
    "False and False is False.\n",
    "True or True is True.\n",
    "True or False is True.\n",
    "False or True is True.\n",
    "False or False is False.\n",
    "not True is False.\n",
    "not False is True."
   ]
  },
  {
   "cell_type": "code",
   "execution_count": null,
   "id": "4ef4c099-f13e-4ddf-a3a0-1ef8be841bfc",
   "metadata": {},
   "outputs": [],
   "source": [
    "Q4. What are the values of the following expressions?\n",
    "(5 > 4) and (3 == 5) : False\n",
    "not (5 > 4) :False\n",
    "(5 > 4) or (3 == 5) :True\n",
    "not ((5 > 4) or (3 == 5)) :False\n",
    "(True and True) and (True == False) :False\n",
    "(not False) or (not True) :True"
   ]
  },
  {
   "cell_type": "code",
   "execution_count": null,
   "id": "e4bb40d8-2173-4f8d-945b-d2e65c160046",
   "metadata": {},
   "outputs": [],
   "source": [
    "Q5. What are the six comparison operators?\n",
    "Ans: ==,!=,<,>,<= and >="
   ]
  },
  {
   "cell_type": "code",
   "execution_count": null,
   "id": "7cac3b5e-eca5-470e-affa-d866525b4e96",
   "metadata": {},
   "outputs": [],
   "source": [
    "Q6. How do you tell the difference between the equal to and assignment operators?Describe a\n",
    "condition and when you would use one.\n",
    "Ans Simply to tell a difference assignment operator uses one equal sign and is used to store data Ex: a=5. \n",
    "Where as equal to (expression) uses two equals sign and is used to compare and also it return boolean Ex: a==5 is True"
   ]
  },
  {
   "cell_type": "code",
   "execution_count": null,
   "id": "ce6ca42f-6569-40d5-8172-75ae60047768",
   "metadata": {},
   "outputs": [],
   "source": [
    "Q7. Identify the three blocks in this code:\n",
    "spam = 0\n",
    "if spam == 10:\n",
    "    print('eggs') #Block 1\n",
    "if spam > 5:\n",
    "    print('bacon') #Block 2\n",
    "else:\n",
    "    print('ham') #Block 3\n",
    "    print('spam')\n",
    "    print('spam')\n",
    "    \n",
    "Ans:\n",
    "ham\n",
    "spam\n",
    "spam"
   ]
  },
  {
   "cell_type": "code",
   "execution_count": 7,
   "id": "e45783f0-a0a8-4fe6-b993-e438aa002cbb",
   "metadata": {},
   "outputs": [
    {
     "name": "stdin",
     "output_type": "stream",
     "text": [
      "Enter a Number:  1\n"
     ]
    },
    {
     "name": "stdout",
     "output_type": "stream",
     "text": [
      "Hello\n"
     ]
    }
   ],
   "source": [
    "'''\n",
    "Q8. Write code that prints Hello if 1 is stored in spam, prints Howdy if 2 is stored in spam, and prints \n",
    "Greetings! if anything else is stored in spam.\n",
    "Ans:\n",
    "'''\n",
    "spam=int(input('Enter a Number: '))\n",
    "if spam==1:\n",
    "    print('Hello')\n",
    "elif spam==2:\n",
    "    print('Howdy')\n",
    "else:\n",
    "    print('greetings!')"
   ]
  },
  {
   "cell_type": "code",
   "execution_count": null,
   "id": "ee14bee1-c75d-41e1-9b35-508af90a9bde",
   "metadata": {},
   "outputs": [],
   "source": [
    "Q9.If your programme is stuck in an endless loop, what keys you’ll press?\n",
    "Ans: ctrl+c"
   ]
  },
  {
   "cell_type": "code",
   "execution_count": null,
   "id": "ed1c5dfc-a526-4903-a2f5-fce427907031",
   "metadata": {},
   "outputs": [],
   "source": [
    "Q10. How can you tell the difference between break and continue?\n",
    "Ans: Break will get you out of the loop just after the current loop, and continue will get you to the starting of the loop."
   ]
  },
  {
   "cell_type": "code",
   "execution_count": null,
   "id": "12021ba2-fc86-414a-9e31-af21f52f86be",
   "metadata": {},
   "outputs": [],
   "source": [
    "Q11. In a for loop, what is the difference between range(10), range(0, 10), and range(0, 10, 1)?\n",
    "Ans: Nothing. Syntax: range(start,end,step size), start is by default 0 and step is always 1 by default"
   ]
  },
  {
   "cell_type": "code",
   "execution_count": 15,
   "id": "cd7bbf99-285f-48e3-8753-273df17b8896",
   "metadata": {},
   "outputs": [
    {
     "name": "stdout",
     "output_type": "stream",
     "text": [
      "1\n",
      "2\n",
      "3\n",
      "4\n",
      "5\n",
      "6\n",
      "7\n",
      "8\n",
      "9\n",
      "10\n",
      "1\n",
      "2\n",
      "3\n",
      "4\n",
      "5\n",
      "6\n",
      "7\n",
      "8\n",
      "9\n",
      "10\n"
     ]
    }
   ],
   "source": [
    "'''\n",
    "Q12. Write a short program that prints the numbers 1 to 10 using a for loop. Then write an equivalent\n",
    "program that prints the numbers 1 to 10 using a while loop.\n",
    "Ans:\n",
    "'''\n",
    "for i in range(1,11):\n",
    "    print(i)\n",
    "x=1\n",
    "while x<11:\n",
    "    print(x)\n",
    "    x+=1"
   ]
  },
  {
   "cell_type": "code",
   "execution_count": null,
   "id": "d71a0fda-293a-4da7-9462-d0f27b9834f9",
   "metadata": {},
   "outputs": [],
   "source": [
    "Q13. If you had a function named bacon() inside a module named spam, how would you call it after\n",
    "importing spam?\n",
    "Ans: spam.bacon()"
   ]
  }
 ],
 "metadata": {
  "kernelspec": {
   "display_name": "Python 3 (ipykernel)",
   "language": "python",
   "name": "python3"
  },
  "language_info": {
   "codemirror_mode": {
    "name": "ipython",
    "version": 3
   },
   "file_extension": ".py",
   "mimetype": "text/x-python",
   "name": "python",
   "nbconvert_exporter": "python",
   "pygments_lexer": "ipython3",
   "version": "3.9.12"
  }
 },
 "nbformat": 4,
 "nbformat_minor": 5
}
