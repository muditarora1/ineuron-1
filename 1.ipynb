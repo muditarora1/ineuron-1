{
 "cells": [
  {
   "cell_type": "raw",
   "id": "ecaa9f7b-bf3e-4429-883d-92a124281545",
   "metadata": {},
   "source": [
    "Ques1: In the below elements which of them are values or an expression? eg:- values can be\n",
    "integer or string and expressions will be mathematical operators.\n",
    "\n",
    "Ans:\n",
    "* \n",
    "'hello'  : value and expression\n",
    "-87.8    : value and expression\n",
    "-        : expression\n",
    "/        : expression\n",
    "+        : expression\n",
    "6        : value and expression"
   ]
  },
  {
   "cell_type": "raw",
   "id": "3149ef87-f535-4633-a462-307ba2d57c5b",
   "metadata": {},
   "source": [
    "Ques2: What is the difference between string and variable?\n",
    "Ans: variable is used to store data like strings, integers, list...etc\n",
    "and strings are the data which we store in variable. string is single character or a group of characters written between \"\" or ''.\n",
    "for example:"
   ]
  },
  {
   "cell_type": "code",
   "execution_count": 15,
   "id": "a11fe725-0bfd-43de-a31d-fcbb7688eb40",
   "metadata": {},
   "outputs": [
    {
     "data": {
      "text/plain": [
       "str"
      ]
     },
     "execution_count": 15,
     "metadata": {},
     "output_type": "execute_result"
    }
   ],
   "source": [
    "name = 'Mudit'\n",
    "'''\n",
    "Here 'name' is a variable and 'Mudit' is the data stored in the variable, \n",
    "and because we are storing a string in name, the data type of name is String(str)\n",
    "'''\n",
    "type(name)"
   ]
  },
  {
   "cell_type": "raw",
   "id": "22808f7e-2d3c-4176-b3c5-a77eafd502a2",
   "metadata": {},
   "source": [
    "Ques3: Describe three different data types.\n",
    "Ans: Lists: A collection of data, between [], it is mutable \n",
    "strings: A collection of data, between ''or\"\", it is immutable means you cant edit the strings.\n",
    "integers: whole numbers or number not in fractional form"
   ]
  },
  {
   "cell_type": "raw",
   "id": "b2e86610-4c87-495a-aaf7-5d5b47e2e002",
   "metadata": {},
   "source": [
    "Ques4: What is an expression made up of? What do all expressions do?\n",
    "Ans4: An expression is a combination of values, variables, operators, and calls to functions. Expressions need to be evaluated\n",
    "expressions evaluates and will always gives a value."
   ]
  },
  {
   "cell_type": "raw",
   "id": "9461eb7d-5a26-4cf3-85be-f12c282682b2",
   "metadata": {},
   "source": [
    "Ques5: This assignment statements, like spam = 10. What is the difference between an expression and a statement?\n",
    "Ans5: An expression is a statement that returns a value. So if it can appear on the right side of an assignment, or as a parameter to a method call, it is an expression. In spam=10, both spam and 10 is an expression, In other words expression yields something.\n",
    "A statement is a unit of code that has an effect, like creating a variable or displaying a value.\n",
    "like spam = 10 is a statement. other examples are if/esle, loops, print statement...etc"
   ]
  },
  {
   "cell_type": "raw",
   "id": "66c79ad1-9d67-440c-978f-bcbac87de61a",
   "metadata": {},
   "source": [
    "Ques6: After running the following code, what does the variable bacon contain?\n",
    "bacon = 22\n",
    "bacon + 1\n",
    "Ans: 22"
   ]
  },
  {
   "cell_type": "raw",
   "id": "7bf55f9c-b029-47bc-8f2d-f5e180afca74",
   "metadata": {},
   "source": [
    "Ques7: What should the values of the following two terms be?\n",
    "'spam'+'spamspam'\n",
    "'spam' * 3\n",
    "Ans: \n",
    "'spamspamspam'\n",
    "'spamspamspam'"
   ]
  },
  {
   "cell_type": "raw",
   "id": "77e73757-a479-4321-9861-92f06a54669a",
   "metadata": {},
   "source": [
    "Ques8: Why is eggs a valid variable name while 100 is invalid?\n",
    "Ans: First letter of a variable name can not be a digit."
   ]
  },
  {
   "cell_type": "raw",
   "id": "55a542f2-a2fe-4f5d-869d-f4cf64fe723f",
   "metadata": {},
   "source": [
    "Ques9: What three functions can be used to get the integer, floating-point number, or string version of a value?\n",
    "Ans:  int() , float() , and str() respectively"
   ]
  },
  {
   "cell_type": "raw",
   "id": "b6de5ce7-ceba-4657-9463-53590e3f65ee",
   "metadata": {},
   "source": [
    "Ques10: Why does this expression cause an error? How can you fix it?\n",
    "'I have eaten' + 99 + 'burritos'\n",
    "Ans: we cant add string to integer, to fix this we need to make 99 a string\n",
    "'I have eaten' +  '99' + 'burritos'"
   ]
  },
  {
   "cell_type": "code",
   "execution_count": null,
   "id": "015e08e1-7698-4a08-ab6a-37d607f5d79b",
   "metadata": {},
   "outputs": [],
   "source": []
  }
 ],
 "metadata": {
  "kernelspec": {
   "display_name": "Python 3 (ipykernel)",
   "language": "python",
   "name": "python3"
  },
  "language_info": {
   "codemirror_mode": {
    "name": "ipython",
    "version": 3
   },
   "file_extension": ".py",
   "mimetype": "text/x-python",
   "name": "python",
   "nbconvert_exporter": "python",
   "pygments_lexer": "ipython3",
   "version": "3.9.12"
  }
 },
 "nbformat": 4,
 "nbformat_minor": 5
}
