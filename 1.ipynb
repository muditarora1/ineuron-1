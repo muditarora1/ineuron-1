{
 "cells": [
  {
   "cell_type": "code",
   "execution_count": null,
   "id": "7bd0edaf-4818-46af-acc0-b866c5ce1fd5",
   "metadata": {
    "tags": []
   },
   "outputs": [],
   "source": [
    "Ques1: In the below elements which of them are values or an expression? eg:- values can be\n",
    "integer or string and expressions will be mathematical operators.\n",
    "\n",
    "Ans:\n",
    "*        : expression\n",
    "'hello'  : value and expression\n",
    "-87.8    : value and expression\n",
    "-        : expression\n",
    "/        : expression\n",
    "+        : expression\n",
    "6        : value and expression"
   ]
  },
  {
   "cell_type": "code",
   "execution_count": null,
   "id": "98846e1a-2903-4c0c-a2f7-34f95734c70d",
   "metadata": {},
   "outputs": [],
   "source": [
    "Ques2: What is the difference between string and variable?\n",
    "Ans: variable is used to store data like strings, integers, list...etc\n",
    "and strings are the data which we store in variable. string is single character or a group of characters written between \"\" or ''.\n",
    "for example:"
   ]
  },
  {
   "cell_type": "code",
   "execution_count": 15,
   "id": "a11fe725-0bfd-43de-a31d-fcbb7688eb40",
   "metadata": {},
   "outputs": [
    {
     "data": {
      "text/plain": [
       "str"
      ]
     },
     "execution_count": 15,
     "metadata": {},
     "output_type": "execute_result"
    }
   ],
   "source": [
    "name = 'Mudit'\n",
    "'''\n",
    "Here 'name' is a variable and 'Mudit' is the data stored in the variable, \n",
    "and because we are storing a string in name, the data type of name is String(str)\n",
    "'''\n",
    "type(name)"
   ]
  },
  {
   "cell_type": "code",
   "execution_count": null,
   "id": "883a36c2-669f-4a73-a103-6ae3ed139c0a",
   "metadata": {},
   "outputs": [],
   "source": [
    "Ques3: Describe three different data types.\n",
    "Ans: Lists: A collection of data, between [], it is mutable \n",
    "strings: A collection of data, between ''or\"\", it is immutable means you cant edit the strings.\n",
    "integers: whole numbers or number not in fractional form"
   ]
  },
  {
   "cell_type": "code",
   "execution_count": null,
   "id": "9491a02c-4095-4341-81a8-cfd9043205ca",
   "metadata": {},
   "outputs": [],
   "source": [
    "Ques4: What is an expression made up of? What do all expressions do?\n",
    "Ans4: An expression is a combination of values, variables, operators, and calls to functions. Expressions need to be evaluated\n",
    "expressions evaluates and will always gives a value."
   ]
  },
  {
   "cell_type": "code",
   "execution_count": null,
   "id": "af9b5ac6-9e39-4940-8100-c70171275f51",
   "metadata": {},
   "outputs": [],
   "source": [
    "Ques5: This assignment statements, like spam = 10. What is the difference between an expression and a statement?\n",
    "Ans5: An expression is a statement that returns a value. So if it can appear on the right side of an assignment, or as a parameter to a method call, it is an expression. In spam=10, both spam and 10 is an expression, In other words expression yields something.\n",
    "A statement is a unit of code that has an effect, like creating a variable or displaying a value.\n",
    "like spam = 10 is a statement. other examples are if/esle, loops, print statement...etc"
   ]
  },
  {
   "cell_type": "code",
   "execution_count": null,
   "id": "c67f9b52-4d66-46ef-98dd-d0f2674dd281",
   "metadata": {},
   "outputs": [],
   "source": [
    "Ques6: After running the following code, what does the variable bacon contain?\n",
    "bacon = 22\n",
    "bacon + 1\n",
    "Ans: 22"
   ]
  },
  {
   "cell_type": "code",
   "execution_count": null,
   "id": "23b0c35c-ecfb-446b-addf-e7ef80b0ca43",
   "metadata": {},
   "outputs": [],
   "source": [
    "Ques7: What should the values of the following two terms be?\n",
    "'spam'+'spamspam'\n",
    "'spam' * 3\n",
    "Ans: \n",
    "'spamspamspam'\n",
    "'spamspamspam'"
   ]
  },
  {
   "cell_type": "code",
   "execution_count": null,
   "id": "787ac1a5-3ed2-44f3-ac56-32b89f3649d4",
   "metadata": {},
   "outputs": [],
   "source": [
    "Ques8: Why is eggs a valid variable name while 100 is invalid?\n",
    "Ans: First letter of a variable name can not be a digit."
   ]
  },
  {
   "cell_type": "code",
   "execution_count": null,
   "id": "3b152eb3-149f-499a-b11c-926197271203",
   "metadata": {},
   "outputs": [],
   "source": [
    "Ques9: What three functions can be used to get the integer, floating-point number, or string version of a value?\n",
    "Ans:  int() , float() , and str() respectively"
   ]
  },
  {
   "cell_type": "code",
   "execution_count": null,
   "id": "ae2e1cf9-3e7a-4d64-8cc8-223c60e908eb",
   "metadata": {},
   "outputs": [],
   "source": [
    "Ques10: Why does this expression cause an error? How can you fix it?\n",
    "'I have eaten' + 99 + 'burritos'\n",
    "Ans: we cant add string to integer, to fix this we need to make 99 a string\n",
    "'I have eaten' +  '99' + 'burritos'"
   ]
  },
  {
   "cell_type": "code",
   "execution_count": null,
   "id": "015e08e1-7698-4a08-ab6a-37d607f5d79b",
   "metadata": {},
   "outputs": [],
   "source": []
  }
 ],
 "metadata": {
  "kernelspec": {
   "display_name": "Python 3 (ipykernel)",
   "language": "python",
   "name": "python3"
  },
  "language_info": {
   "codemirror_mode": {
    "name": "ipython",
    "version": 3
   },
   "file_extension": ".py",
   "mimetype": "text/x-python",
   "name": "python",
   "nbconvert_exporter": "python",
   "pygments_lexer": "ipython3",
   "version": "3.9.12"
  }
 },
 "nbformat": 4,
 "nbformat_minor": 5
}
