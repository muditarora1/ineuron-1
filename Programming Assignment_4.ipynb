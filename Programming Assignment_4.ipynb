{
 "cells": [
  {
   "cell_type": "markdown",
   "id": "57667f97-39f3-4d23-85f3-71583345fcce",
   "metadata": {},
   "source": [
    "Q1. Write a Python Program to Find the Factorial of a Number?"
   ]
  },
  {
   "cell_type": "code",
   "execution_count": 7,
   "id": "03a57dba-cbe9-4eaa-9941-a8aea71951da",
   "metadata": {},
   "outputs": [
    {
     "name": "stdin",
     "output_type": "stream",
     "text": [
      "Enter a number:  5\n"
     ]
    },
    {
     "name": "stdout",
     "output_type": "stream",
     "text": [
      "factorial of 5 is 120\n"
     ]
    }
   ],
   "source": [
    "a=int(input('Enter a number: '))\n",
    "n=1\n",
    "for i in range(1,a+1):\n",
    "    n=n*i\n",
    "print(f'factorial of {a} is {n}')"
   ]
  },
  {
   "cell_type": "markdown",
   "id": "e2d74060-5763-46b3-85fc-07c451bace1c",
   "metadata": {},
   "source": [
    "Q2. Write a Python Program to Display the multiplication Table?"
   ]
  },
  {
   "cell_type": "code",
   "execution_count": 6,
   "id": "dc97d017-a607-42be-9928-3f8c687d8120",
   "metadata": {},
   "outputs": [
    {
     "name": "stdin",
     "output_type": "stream",
     "text": [
      "Enter a number:  6\n"
     ]
    },
    {
     "name": "stdout",
     "output_type": "stream",
     "text": [
      "6x1=6\n",
      "6x2=12\n",
      "6x3=18\n",
      "6x4=24\n",
      "6x5=30\n",
      "6x6=36\n",
      "6x7=42\n",
      "6x8=48\n",
      "6x9=54\n",
      "6x10=60\n"
     ]
    }
   ],
   "source": [
    "a=int(input('Enter a number: '))\n",
    "for i in range(1,11):\n",
    "    print(f'{a}x{i}={a*i}')"
   ]
  },
  {
   "cell_type": "markdown",
   "id": "d6e962d2-7d94-4c43-9ba7-3d8393605621",
   "metadata": {},
   "source": [
    "Q3. Write a Python Program to Print the Fibonacci sequence?"
   ]
  },
  {
   "cell_type": "code",
   "execution_count": 12,
   "id": "3e4c226e-3a09-4d0a-b2d7-709e45b3a7dd",
   "metadata": {},
   "outputs": [
    {
     "name": "stdin",
     "output_type": "stream",
     "text": [
      "Enter a number:  7\n"
     ]
    },
    {
     "name": "stdout",
     "output_type": "stream",
     "text": [
      "[0, 1, 1, 2, 3, 5, 8]\n"
     ]
    }
   ],
   "source": [
    "a=int(input('Enter a number: '))\n",
    "n=0\n",
    "m=1\n",
    "f=[0,1]\n",
    "for i in range(1,a-1):\n",
    "    m=n+m\n",
    "    f.append(m)\n",
    "    n=f[-2]\n",
    "print(f)"
   ]
  },
  {
   "cell_type": "markdown",
   "id": "0a77a03d-8082-4651-a6ce-36c54a84f4e6",
   "metadata": {},
   "source": [
    "Q4. Write a Python Program to Check Armstrong Number?\n",
    "(Armstrong number is a number that is equal to the sum of cubes of its digits.)"
   ]
  },
  {
   "cell_type": "code",
   "execution_count": 31,
   "id": "e9a27127-d10a-45e2-92a7-07191e7465e9",
   "metadata": {},
   "outputs": [
    {
     "name": "stdin",
     "output_type": "stream",
     "text": [
      "Enter a number:  371\n"
     ]
    },
    {
     "name": "stdout",
     "output_type": "stream",
     "text": [
      "Armstrong\n"
     ]
    }
   ],
   "source": [
    "x=int(input('Enter a number: '))\n",
    "a=x\n",
    "digit=0\n",
    "arm=[]\n",
    "while True:\n",
    "    if a/10==0:\n",
    "        break\n",
    "    else:\n",
    "        a=a/10\n",
    "        a=int(a)\n",
    "        digit=digit+1\n",
    "a=x\n",
    "for i in range(1,digit+1):\n",
    "    s=a%10\n",
    "    a=a/10\n",
    "    a=int(a)\n",
    "    arm.append(s)\n",
    "a=0\n",
    "for i in arm:\n",
    "    a=i*i*i+a\n",
    "if a==x:\n",
    "    print('Armstrong')\n",
    "else:\n",
    "    print('not armstrong')"
   ]
  },
  {
   "cell_type": "markdown",
   "id": "a1a5a69e-09b8-42d5-9c43-757504887135",
   "metadata": {},
   "source": [
    "Q5. Write a Python Program to Find Armstrong Number in an Interval?"
   ]
  },
  {
   "cell_type": "code",
   "execution_count": 36,
   "id": "98bbe9b5-8fb7-4555-ae30-1bf85574970a",
   "metadata": {},
   "outputs": [
    {
     "name": "stdin",
     "output_type": "stream",
     "text": [
      "Enter a number:  999\n"
     ]
    },
    {
     "name": "stdout",
     "output_type": "stream",
     "text": [
      "[1, 153, 370, 371, 407]\n"
     ]
    }
   ],
   "source": [
    "y=int(input('Enter a number: '))\n",
    "arms=[]\n",
    "for i in range(1,y):\n",
    "    x=i\n",
    "    a=x\n",
    "    digit=0\n",
    "    arm=[]\n",
    "    while True:\n",
    "        if a/10==0:\n",
    "            break\n",
    "        else:\n",
    "            a=a/10\n",
    "            a=int(a)\n",
    "            digit=digit+1\n",
    "    a=x\n",
    "    for i in range(1,digit+1):\n",
    "        s=a%10\n",
    "        a=a/10\n",
    "        a=int(a)\n",
    "        arm.append(s)\n",
    "    a=0\n",
    "    for i in arm:\n",
    "        a=i*i*i+a\n",
    "    if a==x:\n",
    "        arms.append(a)\n",
    "print(arms)"
   ]
  },
  {
   "cell_type": "markdown",
   "id": "e59c0f18-7d03-4bd6-b2b6-1961b4e364d7",
   "metadata": {},
   "source": [
    "Q6. Write a Python Program to Find the Sum of Natural Numbers?"
   ]
  },
  {
   "cell_type": "code",
   "execution_count": 41,
   "id": "d1059ce4-4f5a-4957-a582-a5774ad9a2b2",
   "metadata": {},
   "outputs": [
    {
     "name": "stdin",
     "output_type": "stream",
     "text": [
      "enter a number:  10\n"
     ]
    },
    {
     "name": "stdout",
     "output_type": "stream",
     "text": [
      "The sum is 55\n"
     ]
    }
   ],
   "source": [
    "num = int(input(\"enter a number: \"))\n",
    "if num < 0:\n",
    "   print(\"Enter a positive number\")\n",
    "else:\n",
    "   sum = 0\n",
    "   while(num > 0):\n",
    "       sum += num\n",
    "       num -= 1\n",
    "   print(\"The sum is\", sum)"
   ]
  },
  {
   "cell_type": "code",
   "execution_count": null,
   "id": "837c8623-34c7-447a-be20-7c70c48c6bf0",
   "metadata": {},
   "outputs": [],
   "source": []
  }
 ],
 "metadata": {
  "kernelspec": {
   "display_name": "Python 3 (ipykernel)",
   "language": "python",
   "name": "python3"
  },
  "language_info": {
   "codemirror_mode": {
    "name": "ipython",
    "version": 3
   },
   "file_extension": ".py",
   "mimetype": "text/x-python",
   "name": "python",
   "nbconvert_exporter": "python",
   "pygments_lexer": "ipython3",
   "version": "3.9.12"
  }
 },
 "nbformat": 4,
 "nbformat_minor": 5
}
