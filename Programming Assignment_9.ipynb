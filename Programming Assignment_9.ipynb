{
 "cells": [
  {
   "cell_type": "code",
   "execution_count": null,
   "id": "3a1ec83e",
   "metadata": {},
   "outputs": [],
   "source": [
    "1. Write a Python program to check if the given number is a Disarium Number?\n",
    "2. Write a Python program to print all disarium numbers between 1 to 100?\n",
    "3. Write a Python program to check if the given number is Happy Number?\n",
    "4. Write a Python program to print all happy numbers between 1 and 100?\n",
    "5. Write a Python program to determine whether the given number is a Harshad Number?\n",
    "6. Write a Python program to print all pronic numbers between 1 and 100?"
   ]
  },
  {
   "cell_type": "code",
   "execution_count": 18,
   "id": "ad022c6b",
   "metadata": {},
   "outputs": [
    {
     "name": "stdout",
     "output_type": "stream",
     "text": [
      "enter a number: 175\n",
      "Number is disarium\n"
     ]
    }
   ],
   "source": [
    "#1. Write a Python program to check if the given number is a Disarium Number?\n",
    "a=input('enter a number: ')\n",
    "d=0\n",
    "c=1\n",
    "l=len(a)\n",
    "for i in range(l):\n",
    "    d=d+(int(a[i])**c)\n",
    "    c=c+1\n",
    "if d==int(a):\n",
    "    print(\"Number is disarium\")\n",
    "else:\n",
    "    print('not a disarium')"
   ]
  },
  {
   "cell_type": "code",
   "execution_count": 22,
   "id": "5f7437ec",
   "metadata": {},
   "outputs": [
    {
     "name": "stdout",
     "output_type": "stream",
     "text": [
      "1   2   3   4   5   6   7   8   9   89   "
     ]
    }
   ],
   "source": [
    "#2. Write a Python program to print all disarium numbers between 1 to 100?\n",
    "def dis(x):\n",
    "    a=str(x)\n",
    "    d=0\n",
    "    c=1\n",
    "    l=len(a)\n",
    "    for i in range(l):\n",
    "        d=d+(int(a[i])**c)\n",
    "        c=c+1\n",
    "    if d==int(a):\n",
    "        print(a,'  ',end='')\n",
    "        \n",
    "for i in range(1,101):\n",
    "    dis(i)"
   ]
  },
  {
   "cell_type": "code",
   "execution_count": 25,
   "id": "0531d49a",
   "metadata": {},
   "outputs": [
    {
     "name": "stdout",
     "output_type": "stream",
     "text": [
      "enter a no.: 32\n",
      "32 is a happy number\n"
     ]
    }
   ],
   "source": [
    "#3. Write a Python program to check if the given number is Happy Number?\n",
    "def isHappyNumber(num):    \n",
    "    rem = sum = 0;    \n",
    "    while(num > 0):    \n",
    "        rem = num%10;    \n",
    "        sum = sum + (rem*rem);    \n",
    "        num = num//10;    \n",
    "    return sum;    \n",
    "        \n",
    "num =int(input('enter a no.: '));    \n",
    "result = num;    \n",
    "while(result != 1 and result != 4):    \n",
    "    result = isHappyNumber(result);   \n",
    "if(result == 1):    \n",
    "    print(str(num) + \" is a happy number\");  \n",
    "elif(result == 4):    \n",
    "    print(str(num) + \" is not a happy number\"); "
   ]
  },
  {
   "cell_type": "code",
   "execution_count": 34,
   "id": "aacf26dd",
   "metadata": {},
   "outputs": [
    {
     "name": "stdout",
     "output_type": "stream",
     "text": [
      "1  7  10  13  19  23  28  31  32  44  49  68  70  79  82  86  91  94  97  100  "
     ]
    }
   ],
   "source": [
    "#4. Write a Python program to print all happy numbers between 1 and 100?\n",
    "def isHappyNumber(num):    \n",
    "    rem = sum = 0;    \n",
    "    while(num > 0):    \n",
    "        rem = num%10;    \n",
    "        sum = sum + (rem*rem);    \n",
    "        num = num//10;    \n",
    "    return sum;    \n",
    "        \n",
    "for i in range(1,101):\n",
    "    \n",
    "    result = i;    \n",
    "    while(result != 1 and result != 4):    \n",
    "        result = isHappyNumber(result);   \n",
    "    if(result == 1):    \n",
    "        print(str(i),end='  ');  "
   ]
  },
  {
   "cell_type": "code",
   "execution_count": 40,
   "id": "4ad20a75",
   "metadata": {},
   "outputs": [
    {
     "name": "stdout",
     "output_type": "stream",
     "text": [
      "156 is a harshad number\n"
     ]
    }
   ],
   "source": [
    "#5. Write a Python program to determine whether the given number is a Harshad Number?\n",
    "num = 156;    \n",
    "rem = sum = 0;      \n",
    "n = num;       \n",
    "while(num > 0):    \n",
    "    rem = num%10;    \n",
    "    sum = sum + rem;    \n",
    "    num = num//10;       \n",
    "if(n%sum == 0):    \n",
    "    print(str(n) + \" is a harshad number\");    \n",
    "else:    \n",
    "    print(str(n) + \" is not a harshad number\"); "
   ]
  },
  {
   "cell_type": "code",
   "execution_count": 46,
   "id": "b7a7a8e0",
   "metadata": {},
   "outputs": [
    {
     "name": "stdout",
     "output_type": "stream",
     "text": [
      "Pronic numbers between 1 and 100: \n",
      "2  6  12  20  30  42  56  72  90  "
     ]
    }
   ],
   "source": [
    "#6. Write a Python program to print all pronic numbers between 1 and 100?\n",
    "def isPronicNumber(num):    \n",
    "    flag = False;     \n",
    "    for j in range(1, num+1):     \n",
    "        if((j*(j+1)) == num):    \n",
    "            flag = True;    \n",
    "            break;    \n",
    "    return flag;      \n",
    "print(\"Pronic numbers between 1 and 100: \");    \n",
    "for i in range(1, 101):    \n",
    "    if(isPronicNumber(i)):    \n",
    "        print(i,end='  ')"
   ]
  },
  {
   "cell_type": "code",
   "execution_count": null,
   "id": "53f2e202",
   "metadata": {},
   "outputs": [],
   "source": []
  }
 ],
 "metadata": {
  "kernelspec": {
   "display_name": "Python 3 (ipykernel)",
   "language": "python",
   "name": "python3"
  },
  "language_info": {
   "codemirror_mode": {
    "name": "ipython",
    "version": 3
   },
   "file_extension": ".py",
   "mimetype": "text/x-python",
   "name": "python",
   "nbconvert_exporter": "python",
   "pygments_lexer": "ipython3",
   "version": "3.9.12"
  }
 },
 "nbformat": 4,
 "nbformat_minor": 5
}
