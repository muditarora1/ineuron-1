{
 "cells": [
  {
   "cell_type": "markdown",
   "id": "e753fb89",
   "metadata": {},
   "source": [
    "**Q1.** Given an array of integers nums and an integer target, return indices of the two numbers such that they add up to target.\n",
    "\n",
    "You may assume that each input would have exactly one solution, and you may not use the same element twice.\n",
    "\n",
    "You can return the answer in any order.\n",
    "\n",
    "**Example:**\n",
    "Input: nums = [2,7,11,15], target = 9\n",
    "Output0 [0,1]\n",
    "\n",
    "**Explanation:** Because nums[0] + nums[1] == 9, we return [0, 1]\n"
   ]
  },
  {
   "cell_type": "code",
   "execution_count": 80,
   "id": "b95182ee",
   "metadata": {},
   "outputs": [
    {
     "name": "stdout",
     "output_type": "stream",
     "text": [
      "index is: 1 , 4 \n",
      " 7 + 1 = 8\n",
      "index is: 6 , 6 \n",
      " 4 + 4 = 8\n"
     ]
    }
   ],
   "source": [
    "arr = [2,7,11,15,1,3,4,99]\n",
    "target = 8\n",
    "i=0;j=len(arr)-1\n",
    "while i<len(arr):\n",
    "    while j>=i:\n",
    "        if arr[i]+arr[j]== target:\n",
    "            print('index is:',i,',',j,'\\n',arr[i],'+',arr[j],'=',target)\n",
    "        j=j-1\n",
    "    i=i+1\n",
    "    j=len(arr)-1"
   ]
  },
  {
   "cell_type": "markdown",
   "id": "84b33d15",
   "metadata": {},
   "source": [
    "<aside>\n",
    "**Q2.** Given an integer array nums and an integer val, remove all occurrences of val in nums in-place. The order of the elements may be changed. Then return the number of elements in nums which are not equal to val.\n",
    "\n",
    "Consider the number of elements in nums which are not equal to val be k, to get accepted, you need to do the following things:\n",
    "\n",
    "- Change the array nums such that the first k elements of nums contain the elements which are not equal to val. The remaining elements of nums are not important as well as the size of nums.\n",
    "- Return k.\n",
    "\n",
    "**Example :**\n",
    "Input: nums = [3,2,2,3], val = 3\n",
    "Output: 2, nums = [2,2,_*,_*]\n",
    "\n",
    "**Explanation:** Your function should return k = 2, with the first two elements of nums being 2. It does not matter what you leave beyond the returned k (hence they are underscores)\n",
    "\n",
    "</aside>"
   ]
  },
  {
   "cell_type": "code",
   "execution_count": 1,
   "id": "6342a84e",
   "metadata": {},
   "outputs": [
    {
     "name": "stdout",
     "output_type": "stream",
     "text": [
      "2\n",
      "[2, 2]\n"
     ]
    }
   ],
   "source": [
    "def removeElement(nums, val):\n",
    "    # Initialize two pointers, one at the beginning and one at the end of the array\n",
    "    left = 0\n",
    "    right = len(nums) - 1\n",
    "\n",
    "    # Iterate through the array\n",
    "    while left <= right:\n",
    "        # If the current element is equal to val, move the right pointer towards the left\n",
    "        if nums[left] == val:\n",
    "            nums[left] = nums[right]\n",
    "            right -= 1\n",
    "        else:\n",
    "            # If the current element is not equal to val, move the left pointer towards the right\n",
    "            left += 1\n",
    "\n",
    "    # Return the number of elements in nums which are not equal to val\n",
    "    return left\n",
    "\n",
    "# Example usage\n",
    "nums = [3, 2, 2, 3]\n",
    "val = 3\n",
    "k = removeElement(nums, val)\n",
    "print(k)  # Output: 2\n",
    "print(nums[:k])  # Output: [2, 2]\n"
   ]
  },
  {
   "cell_type": "markdown",
   "id": "5ab334c1",
   "metadata": {},
   "source": [
    "<aside>\n",
    "💡 **Q3.** Given a sorted array of distinct integers and a target value, return the index if the target is found. If not, return the index where it would be if it were inserted in order.\n",
    "\n",
    "You must write an algorithm with O(log n) runtime complexity.\n",
    "\n",
    "**Example 1:**\n",
    "Input: nums = [1,3,5,6], target = 5\n",
    "\n",
    "Output: 2\n",
    "\n",
    "</aside>"
   ]
  },
  {
   "cell_type": "code",
   "execution_count": 2,
   "id": "84082246",
   "metadata": {},
   "outputs": [
    {
     "data": {
      "text/plain": [
       "4"
      ]
     },
     "execution_count": 2,
     "metadata": {},
     "output_type": "execute_result"
    }
   ],
   "source": [
    "def searchInsert(nums, target):\n",
    "    left = 0\n",
    "    right = len(nums)\n",
    "\n",
    "    while left < right:\n",
    "        mid = (left + right) // 2\n",
    "        if nums[mid] == target:\n",
    "            return mid\n",
    "        elif nums[mid] < target:\n",
    "            left = mid + 1\n",
    "        else:\n",
    "            right = mid\n",
    "\n",
    "    return left\n",
    "searchInsert([1,3,5,6,9],7)"
   ]
  },
  {
   "cell_type": "markdown",
   "id": "83d77da3",
   "metadata": {},
   "source": [
    "Q4 You are given a large integer represented as an integer array digits, where each digits[i] is the ith digit of the integer. The digits are ordered from most significant to least significant in left-to-right order. The large integer does not contain any leading 0's.\n",
    "Increment the large integer by one and return the resulting array of digits.\n",
    "\n",
    "Example 1: Input: digits = [1,2,3] Output: [1,2,4]\n",
    "\n",
    "Explanation: The array represents the integer 123.\n",
    "\n",
    "Incrementing by one gives 123 + 1 = 124. Thus, the result should be [1,2,4]."
   ]
  },
  {
   "cell_type": "code",
   "execution_count": 3,
   "id": "0157bdc5",
   "metadata": {},
   "outputs": [
    {
     "data": {
      "text/plain": [
       "[1, 2, 4]"
      ]
     },
     "execution_count": 3,
     "metadata": {},
     "output_type": "execute_result"
    }
   ],
   "source": [
    "def plusOne(digits):\n",
    "    carry = 1\n",
    "    for i in range(len(digits)-1, -1, -1):\n",
    "        digits[i] += carry\n",
    "        carry = digits[i] // 10\n",
    "        digits[i] %= 10\n",
    "        if carry == 0:\n",
    "            break\n",
    "\n",
    "    if carry != 0:\n",
    "        digits.insert(0, carry)\n",
    "\n",
    "    return digits\n",
    "\n",
    "plusOne([1,2,3])"
   ]
  },
  {
   "cell_type": "markdown",
   "id": "fff0cfbe",
   "metadata": {},
   "source": [
    "**Q5.** You are given two integer arrays nums1 and nums2, sorted in non-decreasing order, and two integers m and n, representing the number of elements in nums1 and nums2 respectively.\n",
    "Merge nums1 and nums2 into a single array sorted in non-decreasing order.\n",
    "\n",
    "The final sorted array should not be returned by the function, but instead be stored inside the array nums1. To accommodate this, nums1 has a length of m + n, where the first m elements denote the elements that should be merged, and the last n elements are set to 0 and should be ignored. nums2 has a length of n.\n",
    "\n",
    "Example 1: Input: nums1 = [1,2,3,0,0,0], m = 3, nums2 = [2,5,6], n = 3 Output: [1,2,2,3,5,6]\n",
    "\n",
    "Explanation: The arrays we are merging are [1,2,3] and [2,5,6]. The result of the merge is [1,2,2,3,5,6] with the underlined elements coming from nums1."
   ]
  },
  {
   "cell_type": "code",
   "execution_count": 4,
   "id": "9366d4f2",
   "metadata": {},
   "outputs": [
    {
     "data": {
      "text/plain": [
       "[1, 2, 2, 3, 5, 6]"
      ]
     },
     "execution_count": 4,
     "metadata": {},
     "output_type": "execute_result"
    }
   ],
   "source": [
    "def merge(nums1, m, nums2, n):\n",
    "    p1 = m - 1\n",
    "    p2 = n - 1\n",
    "    p = m + n - 1\n",
    "\n",
    "    while p1 >= 0 and p2 >= 0:\n",
    "        if nums1[p1] > nums2[p2]:\n",
    "            nums1[p] = nums1[p1]\n",
    "            p1 -= 1\n",
    "        else:\n",
    "            nums1[p] = nums2[p2]\n",
    "            p2 -= 1\n",
    "        p -= 1\n",
    "\n",
    "    while p2 >= 0:\n",
    "        nums1[p] = nums2[p2]\n",
    "        p2 -= 1\n",
    "        p -= 1\n",
    "\n",
    "    return nums1\n",
    "\n",
    "merge( [1,2,3,0,0,0],3,[2,5,6],3)"
   ]
  },
  {
   "cell_type": "markdown",
   "id": "6b2e2aa7",
   "metadata": {},
   "source": [
    " **Q6.** Given an integer array nums, return true if any value appears at least twice in the array, and return false if every element is distinct.\n",
    "Example 1: Input: nums = [1,2,3,1]\n",
    "\n",
    "Output: true"
   ]
  },
  {
   "cell_type": "code",
   "execution_count": 5,
   "id": "261a72c0",
   "metadata": {},
   "outputs": [
    {
     "data": {
      "text/plain": [
       "True"
      ]
     },
     "execution_count": 5,
     "metadata": {},
     "output_type": "execute_result"
    }
   ],
   "source": [
    "def containsDuplicate(nums):\n",
    "    numSet = set()\n",
    "\n",
    "    for num in nums:\n",
    "        if num in numSet:\n",
    "            return True\n",
    "        numSet.add(num)\n",
    "\n",
    "    return False\n",
    "containsDuplicate([1,2,3,1])"
   ]
  },
  {
   "cell_type": "markdown",
   "id": "c0ae7af1",
   "metadata": {},
   "source": [
    " **Q7.** Given an integer array nums, move all 0's to the end of it while maintaining the relative order of the nonzero elements.\n",
    "Note that you must do this in-place without making a copy of the array.\n",
    "\n",
    "Example 1: Input: nums = [0,1,0,3,12] Output: [1,3,12,0,0]"
   ]
  },
  {
   "cell_type": "code",
   "execution_count": 7,
   "id": "a8bc206d",
   "metadata": {},
   "outputs": [
    {
     "data": {
      "text/plain": [
       "[1, 3, 12, 0, 0]"
      ]
     },
     "execution_count": 7,
     "metadata": {},
     "output_type": "execute_result"
    }
   ],
   "source": [
    "def moveZeroes(nums):\n",
    "    j = 0\n",
    "    for i in range(len(nums)):\n",
    "        if nums[i] != 0:\n",
    "            nums[j] = nums[i]\n",
    "            j += 1\n",
    "\n",
    "    for k in range(j, len(nums)):\n",
    "        nums[k] = 0\n",
    "\n",
    "    return nums\n",
    "\n",
    "moveZeroes([0,1,0,3,12])"
   ]
  },
  {
   "cell_type": "markdown",
   "id": "05c8953b",
   "metadata": {},
   "source": [
    " **Q8.** You have a set of integers s, which originally contains all the numbers from 1 to n. Unfortunately, due to some error, one of the numbers in s got duplicated to another number in the set, which results in repetition of one number and loss of another number.\n",
    "You are given an integer array nums representing the data status of this set after the error.\n",
    "\n",
    "Find the number that occurs twice and the number that is missing and return them in the form of an array.\n",
    "\n",
    "Example 1: Input: nums = [1,2,2,4] Output: [2,3]"
   ]
  },
  {
   "cell_type": "code",
   "execution_count": 8,
   "id": "96cdbc5b",
   "metadata": {},
   "outputs": [
    {
     "data": {
      "text/plain": [
       "[2, 3]"
      ]
     },
     "execution_count": 8,
     "metadata": {},
     "output_type": "execute_result"
    }
   ],
   "source": [
    "def findErrorNums(nums):\n",
    "    numSet = set()\n",
    "    duplicate = 0\n",
    "    totalSum = 0\n",
    "\n",
    "    for num in nums:\n",
    "        if num in numSet:\n",
    "            duplicate = num\n",
    "        numSet.add(num)\n",
    "        totalSum += num\n",
    "\n",
    "    n = len(nums)\n",
    "    expectedSum = (n * (n + 1)) // 2\n",
    "    missing = expectedSum - (totalSum - duplicate)\n",
    "\n",
    "    return [duplicate, missing]\n",
    "\n",
    "findErrorNums( [1,2,2,4] )"
   ]
  },
  {
   "cell_type": "code",
   "execution_count": null,
   "id": "a595d632",
   "metadata": {},
   "outputs": [],
   "source": []
  }
 ],
 "metadata": {
  "kernelspec": {
   "display_name": "Python 3 (ipykernel)",
   "language": "python",
   "name": "python3"
  },
  "language_info": {
   "codemirror_mode": {
    "name": "ipython",
    "version": 3
   },
   "file_extension": ".py",
   "mimetype": "text/x-python",
   "name": "python",
   "nbconvert_exporter": "python",
   "pygments_lexer": "ipython3",
   "version": "3.9.12"
  }
 },
 "nbformat": 4,
 "nbformat_minor": 5
}
