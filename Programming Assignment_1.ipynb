{
 "cells": [
  {
   "cell_type": "code",
   "execution_count": null,
   "id": "9cf4d03e-1f6d-486d-8361-cde4075906bc",
   "metadata": {},
   "outputs": [],
   "source": [
    "Q1. Write a Python program to print \"Hello Python\""
   ]
  },
  {
   "cell_type": "code",
   "execution_count": 1,
   "id": "ec1dc2a8-6e2b-4d7c-aed6-3540ecb7303f",
   "metadata": {},
   "outputs": [
    {
     "name": "stdout",
     "output_type": "stream",
     "text": [
      "Hello Python\n"
     ]
    }
   ],
   "source": [
    "print(\"Hello Python\")"
   ]
  },
  {
   "cell_type": "code",
   "execution_count": null,
   "id": "b7ef6b7d-14bc-4201-ab3b-e8388fd33e2f",
   "metadata": {},
   "outputs": [],
   "source": [
    "Q2. Write a Python program to do arithmetical operations addition and division.?"
   ]
  },
  {
   "cell_type": "code",
   "execution_count": 2,
   "id": "98ebd8f2-90c2-4c90-91f1-b2b9d9fd4e3a",
   "metadata": {},
   "outputs": [
    {
     "data": {
      "text/plain": [
       "5.0"
      ]
     },
     "execution_count": 2,
     "metadata": {},
     "output_type": "execute_result"
    }
   ],
   "source": [
    "a=5+5\n",
    "a=a/2\n",
    "a"
   ]
  },
  {
   "cell_type": "code",
   "execution_count": null,
   "id": "69b6d07a-5d53-4a84-88e7-84ec6e031245",
   "metadata": {},
   "outputs": [],
   "source": [
    "Q3. Write a Python program to find the area of a triangle?"
   ]
  },
  {
   "cell_type": "code",
   "execution_count": 3,
   "id": "ac4047cc-5927-4076-b11f-199952c0fdf4",
   "metadata": {},
   "outputs": [
    {
     "name": "stdin",
     "output_type": "stream",
     "text": [
      "Enter height:  5\n",
      "Enter base:  2\n"
     ]
    },
    {
     "name": "stdout",
     "output_type": "stream",
     "text": [
      "Area of triangle is 5.0\n"
     ]
    }
   ],
   "source": [
    "h=float(input('Enter height: '))\n",
    "b=float(input('Enter base: '))\n",
    "area=0.5*b*h\n",
    "print(f'Area of triangle is {area}')"
   ]
  },
  {
   "cell_type": "code",
   "execution_count": null,
   "id": "dfcaf691-7f20-47ad-affb-03d1a2365389",
   "metadata": {},
   "outputs": [],
   "source": [
    "Q4. Write a Python program to swap two variables?"
   ]
  },
  {
   "cell_type": "code",
   "execution_count": 4,
   "id": "1432138e-db88-4175-b1d2-19f9921a556a",
   "metadata": {},
   "outputs": [
    {
     "name": "stdin",
     "output_type": "stream",
     "text": [
      "enter something:  mudit\n",
      "enter something more:  arora\n"
     ]
    },
    {
     "name": "stdout",
     "output_type": "stream",
     "text": [
      "a is arora and b is mudit\n"
     ]
    }
   ],
   "source": [
    "a=input('enter something: ')\n",
    "b=input('enter something more: ')\n",
    "c=a\n",
    "a=b\n",
    "b=c\n",
    "print(f'a is {a} and b is {b}')"
   ]
  },
  {
   "cell_type": "code",
   "execution_count": null,
   "id": "0eb40276-0dcf-4a82-b61c-66939fbc1eb0",
   "metadata": {},
   "outputs": [],
   "source": [
    "Q5. Write a Python program to generate a random number?"
   ]
  },
  {
   "cell_type": "code",
   "execution_count": 5,
   "id": "886c7b9e-f746-4826-acea-370bed8bc15e",
   "metadata": {},
   "outputs": [
    {
     "name": "stdout",
     "output_type": "stream",
     "text": [
      "0.09462844324361841\n"
     ]
    }
   ],
   "source": [
    "import random\n",
    "n=random.random()\n",
    "print(n)"
   ]
  },
  {
   "cell_type": "code",
   "execution_count": 6,
   "id": "db4dbb8e-c175-4bb7-aa88-9478caf9f7e8",
   "metadata": {},
   "outputs": [
    {
     "name": "stdout",
     "output_type": "stream",
     "text": [
      "13\n"
     ]
    }
   ],
   "source": [
    "#or\n",
    "n=random.randint(0,20)\n",
    "print(n)"
   ]
  },
  {
   "cell_type": "code",
   "execution_count": null,
   "id": "047e864a-0bc1-4d4c-b7ca-b4f8bc7927cf",
   "metadata": {},
   "outputs": [],
   "source": []
  }
 ],
 "metadata": {
  "kernelspec": {
   "display_name": "Python 3 (ipykernel)",
   "language": "python",
   "name": "python3"
  },
  "language_info": {
   "codemirror_mode": {
    "name": "ipython",
    "version": 3
   },
   "file_extension": ".py",
   "mimetype": "text/x-python",
   "name": "python",
   "nbconvert_exporter": "python",
   "pygments_lexer": "ipython3",
   "version": "3.9.12"
  }
 },
 "nbformat": 4,
 "nbformat_minor": 5
}
